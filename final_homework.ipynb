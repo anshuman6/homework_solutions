{
 "cells": [
  {
   "cell_type": "markdown",
   "metadata": {},
   "source": [
    "#### Please download all files in repository to same folder before running"
   ]
  },
  {
   "cell_type": "code",
   "execution_count": 1,
   "metadata": {},
   "outputs": [],
   "source": [
    "# Import the custom vector module as vnp.. This will be used for calculating dot product in the end\n",
    "import vector_numpy as vnp"
   ]
  },
  {
   "cell_type": "code",
   "execution_count": 2,
   "metadata": {},
   "outputs": [],
   "source": [
    "import numpy as np\n",
    "import string"
   ]
  },
  {
   "cell_type": "code",
   "execution_count": 3,
   "metadata": {},
   "outputs": [],
   "source": [
    "# Read all 5 the text files\n",
    "with open(\"The Tempest.txt\") as fd1:\n",
    "    tempest_text = fd1.read()\n",
    "    "
   ]
  },
  {
   "cell_type": "code",
   "execution_count": 4,
   "metadata": {},
   "outputs": [],
   "source": [
    "# Read all 5 the text files\n",
    "with open(\"Romeo and Juliet.txt\") as fd2:\n",
    "    rj_text = fd2.read()"
   ]
  },
  {
   "cell_type": "code",
   "execution_count": 5,
   "metadata": {},
   "outputs": [],
   "source": [
    "# Read all 5 the text files\n",
    "with open(\"The Merchant of Venice.txt\") as fd3:\n",
    "    venice_text = fd3.read()"
   ]
  },
  {
   "cell_type": "code",
   "execution_count": 6,
   "metadata": {},
   "outputs": [],
   "source": [
    "# Read all 5 the text files\n",
    "with open(\"Hamlet.txt\") as fd4:\n",
    "    hamlet_text = fd4.read()"
   ]
  },
  {
   "cell_type": "code",
   "execution_count": 7,
   "metadata": {},
   "outputs": [],
   "source": [
    "# Read all 5 the text files\n",
    "with open(\"A Midsummer Night's Dream.txt\") as fd5:\n",
    "    midsum_text = fd5.read()"
   ]
  },
  {
   "cell_type": "code",
   "execution_count": 8,
   "metadata": {},
   "outputs": [],
   "source": [
    "# Read file containing stopwords called english in same folder\n",
    "# List of elizabethan stopwords taken from here: https://bryanbumgardner.com/elizabethan-stop-words-for-nlp/\n",
    "# These new stop words have been updated in the stopwords file\n",
    "\n",
    "with open(\"english.txt\") as fd6:\n",
    "    z1 = fd6.readlines()\n",
    "    stop_words = [elem.strip() for elem in z1]"
   ]
  },
  {
   "cell_type": "code",
   "execution_count": 9,
   "metadata": {},
   "outputs": [],
   "source": [
    "# Next steps will focus on breaking into words and cleaning the text"
   ]
  },
  {
   "cell_type": "code",
   "execution_count": 10,
   "metadata": {},
   "outputs": [],
   "source": [
    "def clean_text(file_data):\n",
    "    \n",
    "    # Splitting the text by space\n",
    "    words_temp_text = file_data\n",
    "    words_temp_text1 = words_temp_text.split()\n",
    "    \n",
    "    # Change everything to lower case\n",
    "    words_temp_text_lower = [elem.lower() for elem in words_temp_text1]\n",
    "  \n",
    "    # Strip\n",
    "    words_temp_strip = [elem1.strip() for elem1 in words_temp_text_lower]\n",
    "    \n",
    "    # Drop last s (treat death and deaths as same... if julius becomes juliu,-  \n",
    "    # - it doesnt matter because juliu will still be a relevant dimension across all\n",
    "    # On testing with and without , dropping last s has improved scores, so retaining this logic\n",
    "    words_temp_strip_s1 = [elemx for elemx in words_temp_strip if elemx[-1] != \"s\"]\n",
    "    words_temp_strip_s2 = [elemy[:len(elemy)-1] for elemy in words_temp_strip if elemy[-1] == \"s\"]\n",
    "    words_temp_strip_s1.extend(words_temp_strip_s1)\n",
    "    \n",
    "    # Remove stopwords\n",
    "    words_temp_final = [elemz for elemz in words_temp_strip_s1 if elemz not in stop_words]\n",
    "    \n",
    "    # Remove punctuation\n",
    "    table = str.maketrans('', '', string.punctuation)\n",
    "    words_to_use = [w.translate(table) for w in words_temp_final]\n",
    "    \n",
    "    return words_to_use"
   ]
  },
  {
   "cell_type": "code",
   "execution_count": 11,
   "metadata": {},
   "outputs": [],
   "source": [
    "cleaned_tempest = clean_text(tempest_text)\n",
    "cleaned_rj = clean_text(rj_text)\n",
    "cleaned_venice = clean_text(venice_text)\n",
    "cleaned_hamlet = clean_text(hamlet_text)\n",
    "cleaned_midsum = clean_text(midsum_text)"
   ]
  },
  {
   "cell_type": "code",
   "execution_count": 12,
   "metadata": {},
   "outputs": [],
   "source": [
    "# Create a function to create a set of words\n",
    "def set_words(ref_lst):\n",
    "    ref_lst1 = ref_lst\n",
    "    set1 = set()\n",
    "    for elem2 in ref_lst1:\n",
    "        if elem2 in set1:\n",
    "            pass\n",
    "        else:\n",
    "            set1.add(elem2)\n",
    "    return set1"
   ]
  },
  {
   "cell_type": "code",
   "execution_count": 13,
   "metadata": {},
   "outputs": [],
   "source": [
    "set_tempest = set_words(cleaned_tempest)\n",
    "set_rj = set_words(cleaned_rj)\n",
    "set_hamlet = set_words(cleaned_hamlet)\n",
    "set_venice = set_words(cleaned_venice)\n",
    "set_midsum = set_words(cleaned_midsum)"
   ]
  },
  {
   "cell_type": "code",
   "execution_count": 14,
   "metadata": {},
   "outputs": [],
   "source": [
    "union_all = set_tempest.union(set_rj, set_hamlet, set_venice, set_midsum)"
   ]
  },
  {
   "cell_type": "code",
   "execution_count": 15,
   "metadata": {},
   "outputs": [],
   "source": [
    "#Convert the union set to list type\n",
    "union_list = list(union_all)"
   ]
  },
  {
   "cell_type": "code",
   "execution_count": 16,
   "metadata": {},
   "outputs": [],
   "source": [
    "# Function to make a vector, same dimensions \n",
    "def vecs(lst_to_vec):\n",
    "    lst_to_vec1 = lst_to_vec\n",
    "    main_vec = np.zeros(len(union_list), dtype = int)\n",
    "    \n",
    "    #IGNORE COMMENTED CODE\n",
    "    #print(lst_to_vec1)\n",
    "    #print(len(lst_to_vec1))\n",
    "    #print(main_vec)\n",
    "    #for i in range(len(union_list)):\n",
    "    #    for j in range(len(lst_to_vec1)):\n",
    "    #        if lst_to_vec1[j] == union_list[i]:\n",
    "    #            main_vec[i] += 1\n",
    "    #print(main_vec)\n",
    "    #return main_vec\n",
    "\n",
    "    lst_to_vec2 = np.array(lst_to_vec1)\n",
    "    unique, counts = np.unique(lst_to_vec2, return_counts=True)\n",
    "    dict1 = dict(zip(unique,counts))\n",
    "    \n",
    "    union_list_vec = np.array(union_list)\n",
    "    \n",
    "    for i in range(len(union_list_vec)):\n",
    "        if union_list_vec[i] in dict1.keys():\n",
    "            main_vec[i] = dict1[union_list_vec[i]]\n",
    "    \n",
    "    return main_vec\n"
   ]
  },
  {
   "cell_type": "code",
   "execution_count": 17,
   "metadata": {},
   "outputs": [],
   "source": [
    "vec_tempest = vecs(cleaned_tempest)"
   ]
  },
  {
   "cell_type": "code",
   "execution_count": 18,
   "metadata": {},
   "outputs": [],
   "source": [
    "vec_rj = vecs(cleaned_rj)"
   ]
  },
  {
   "cell_type": "code",
   "execution_count": 19,
   "metadata": {},
   "outputs": [],
   "source": [
    "vec_hamlet = vecs(cleaned_hamlet)\n",
    "vec_venice = vecs(cleaned_venice)"
   ]
  },
  {
   "cell_type": "code",
   "execution_count": 20,
   "metadata": {},
   "outputs": [],
   "source": [
    "vec_midsum = vecs(cleaned_midsum)"
   ]
  },
  {
   "cell_type": "markdown",
   "metadata": {},
   "source": [
    "#### To demonstrate the use of custom vector_numpy class/datatype, \n",
    "#### convert all previous 4 numpy arrays to lists.. and feed them to vector_numpy (vnp)"
   ]
  },
  {
   "cell_type": "code",
   "execution_count": 21,
   "metadata": {},
   "outputs": [],
   "source": [
    "vec_tempest_list = list(vec_tempest)\n",
    "vec_rj_list = list(vec_rj)\n",
    "vec_hamlet_list = list(vec_hamlet)\n",
    "vec_venice_list = list(vec_venice)\n",
    "vec_midsum_list = list(vec_midsum)"
   ]
  },
  {
   "cell_type": "code",
   "execution_count": 22,
   "metadata": {},
   "outputs": [],
   "source": [
    "# Pass lists to custom vector_numpy class"
   ]
  },
  {
   "cell_type": "code",
   "execution_count": 23,
   "metadata": {},
   "outputs": [],
   "source": [
    "vec_tempest_custom = vnp.Vector(vec_tempest_list)\n",
    "vec_rj_custom = vnp.Vector(vec_rj_list)\n",
    "vec_hamlet_custom = vnp.Vector(vec_hamlet_list)\n",
    "vec_venice_custom = vnp.Vector(vec_venice_list)\n",
    "vec_midsum_custom = vnp.Vector(vec_midsum_list)"
   ]
  },
  {
   "cell_type": "markdown",
   "metadata": {},
   "source": [
    "#### Tempest Versus rest\n",
    "#### To demonstrate use of custom class, we will use it for dot product\n",
    "#### However, we will still be using numpy directly to compute magnitude\n",
    "#### Hence, while dot product, variable_custom has been used, as it is object of custom vector class\n",
    "#### To compute magnitude using numpy, direct numpy arrays are used"
   ]
  },
  {
   "cell_type": "code",
   "execution_count": 24,
   "metadata": {},
   "outputs": [
    {
     "name": "stdout",
     "output_type": "stream",
     "text": [
      "Tempest versus RJ:\n",
      "0.32995683904394574\n",
      "Tempest versus Hamlet:\n",
      "0.28675907778325527\n",
      "Tempest versus Venice:\n",
      "0.381014962676081\n",
      "Tempest versus Midsummer\n",
      "0.3617662920896585\n",
      "Tempest versus Tempest,it should be 1:\n",
      "1.0000000000000002\n"
     ]
    }
   ],
   "source": [
    "print(\"Tempest versus RJ:\")\n",
    "print((vec_tempest_custom@vec_rj_custom)/((np.linalg.norm(vec_tempest))*(np.linalg.norm(vec_rj))))\n",
    "print(\"Tempest versus Hamlet:\")\n",
    "print((vec_tempest_custom@vec_hamlet_custom)/((np.linalg.norm(vec_tempest))*(np.linalg.norm(vec_hamlet))))\n",
    "print(\"Tempest versus Venice:\")\n",
    "print((vec_tempest_custom@vec_venice_custom)/((np.linalg.norm(vec_tempest))*(np.linalg.norm(vec_venice))))\n",
    "print(\"Tempest versus Midsummer\")\n",
    "print((vec_tempest_custom@vec_midsum_custom)/((np.linalg.norm(vec_tempest))*(np.linalg.norm(vec_midsum))))\n",
    "print(\"Tempest versus Tempest,it should be 1:\")\n",
    "print((vec_tempest_custom@vec_tempest_custom)/((np.linalg.norm(vec_tempest))*(np.linalg.norm(vec_tempest))))"
   ]
  },
  {
   "cell_type": "markdown",
   "metadata": {},
   "source": [
    "#### Romeo Juliet Versus rest"
   ]
  },
  {
   "cell_type": "code",
   "execution_count": 25,
   "metadata": {},
   "outputs": [
    {
     "name": "stdout",
     "output_type": "stream",
     "text": [
      "RJ versus Tempest:\n",
      "0.32995683904394574\n",
      "RJ versus Venice:\n",
      "0.4332501084909256\n",
      "RJ versus Hamlet:\n",
      "0.2789928113917102\n",
      "RJ versus Midsum\n",
      "0.44789651850628714\n",
      "RJ versus RJ, it should be 1:\n",
      "0.9999999999999999\n"
     ]
    }
   ],
   "source": [
    "print(\"RJ versus Tempest:\")\n",
    "print((vec_tempest_custom@vec_rj_custom)/((np.linalg.norm(vec_tempest))*(np.linalg.norm(vec_rj))))\n",
    "print(\"RJ versus Venice:\")\n",
    "print((vec_venice_custom@vec_rj_custom)/((np.linalg.norm(vec_venice))*(np.linalg.norm(vec_rj))))\n",
    "print(\"RJ versus Hamlet:\")\n",
    "print((vec_hamlet_custom@vec_rj_custom)/((np.linalg.norm(vec_hamlet))*(np.linalg.norm(vec_rj))))\n",
    "print(\"RJ versus Midsum\")\n",
    "print((vec_midsum_custom@vec_rj_custom)/((np.linalg.norm(vec_midsum))*(np.linalg.norm(vec_rj))))\n",
    "print(\"RJ versus RJ, it should be 1:\")\n",
    "print((vec_rj_custom@vec_rj_custom)/((np.linalg.norm(vec_rj))*(np.linalg.norm(vec_rj))))"
   ]
  },
  {
   "cell_type": "markdown",
   "metadata": {},
   "source": [
    "#### Venice Versus rest"
   ]
  },
  {
   "cell_type": "code",
   "execution_count": 26,
   "metadata": {},
   "outputs": [
    {
     "name": "stdout",
     "output_type": "stream",
     "text": [
      "Venice versus Hamlet:\n",
      "0.33237605423779815\n",
      "Venice versus RJ:\n",
      "0.4332501084909256\n",
      "Venice versus Tempest:\n",
      "0.381014962676081\n",
      "Venice versus Midsum:\n",
      "0.4646048373068697\n",
      "Venice versus Venice: It should be 1\n",
      "1.0\n"
     ]
    }
   ],
   "source": [
    "print(\"Venice versus Hamlet:\")\n",
    "print((vec_venice_custom@vec_hamlet_custom)/((np.linalg.norm(vec_venice))*(np.linalg.norm(vec_hamlet))))\n",
    "print(\"Venice versus RJ:\")\n",
    "print((vec_venice_custom@vec_rj_custom)/((np.linalg.norm(vec_venice))*(np.linalg.norm(vec_rj))))\n",
    "print(\"Venice versus Tempest:\")\n",
    "print((vec_venice_custom@vec_tempest_custom)/((np.linalg.norm(vec_venice))*(np.linalg.norm(vec_tempest))))\n",
    "print(\"Venice versus Midsum:\")\n",
    "print((vec_venice_custom@vec_midsum_custom)/((np.linalg.norm(vec_venice))*(np.linalg.norm(vec_midsum))))\n",
    "print(\"Venice versus Venice: It should be 1\")\n",
    "print((vec_venice_custom@vec_venice_custom)/((np.linalg.norm(vec_venice))*(np.linalg.norm(vec_venice))))"
   ]
  },
  {
   "cell_type": "markdown",
   "metadata": {},
   "source": [
    "#### Hamlet Versus Rest"
   ]
  },
  {
   "cell_type": "code",
   "execution_count": 27,
   "metadata": {},
   "outputs": [
    {
     "name": "stdout",
     "output_type": "stream",
     "text": [
      "Hamlet versus RJ:\n",
      "0.2789928113917102\n",
      "Hamlet versus Tempest:\n",
      "0.28675907778325527\n",
      "Hamlet versus Venice:\n",
      "0.33237605423779815\n",
      "Hamlet versus Midsum:\n",
      "0.3070852533049582\n",
      "Hamlet versus Hamlet,it should be 1:\n",
      "1.0\n"
     ]
    }
   ],
   "source": [
    "print(\"Hamlet versus RJ:\")\n",
    "print((vec_hamlet_custom@vec_rj_custom)/((np.linalg.norm(vec_hamlet))*(np.linalg.norm(vec_rj))))\n",
    "print(\"Hamlet versus Tempest:\")\n",
    "print((vec_hamlet_custom@vec_tempest_custom)/((np.linalg.norm(vec_hamlet))*(np.linalg.norm(vec_tempest))))\n",
    "print(\"Hamlet versus Venice:\")\n",
    "print((vec_hamlet_custom@vec_venice_custom)/((np.linalg.norm(vec_hamlet))*(np.linalg.norm(vec_venice))))\n",
    "print(\"Hamlet versus Midsum:\")\n",
    "print((vec_hamlet_custom@vec_midsum_custom)/((np.linalg.norm(vec_hamlet))*(np.linalg.norm(vec_midsum))))\n",
    "print(\"Hamlet versus Hamlet,it should be 1:\")\n",
    "print((vec_hamlet_custom@vec_hamlet_custom)/((np.linalg.norm(vec_hamlet))*(np.linalg.norm(vec_hamlet))))"
   ]
  },
  {
   "cell_type": "markdown",
   "metadata": {},
   "source": [
    "#### Midsummers Versus Rest"
   ]
  },
  {
   "cell_type": "code",
   "execution_count": 28,
   "metadata": {},
   "outputs": [
    {
     "name": "stdout",
     "output_type": "stream",
     "text": [
      "Midsummer versus Hamlet:\n",
      "0.3070852533049582\n",
      "Midsummer versus RJ:\n",
      "0.44789651850628714\n",
      "Midsummer versus Tempest:\n",
      "0.3617662920896585\n",
      "Midsummer versus Venice:\n",
      "0.4646048373068697\n",
      "Midsummer versus Midsummer,it should be 1:\n",
      "1.0\n"
     ]
    }
   ],
   "source": [
    "print(\"Midsummer versus Hamlet:\")\n",
    "print((vec_midsum_custom@vec_hamlet_custom)/((np.linalg.norm(vec_midsum))*(np.linalg.norm(vec_hamlet))))\n",
    "print(\"Midsummer versus RJ:\")\n",
    "print((vec_midsum_custom@vec_rj_custom)/((np.linalg.norm(vec_midsum))*(np.linalg.norm(vec_rj))))\n",
    "print(\"Midsummer versus Tempest:\")\n",
    "print((vec_midsum_custom@vec_tempest_custom)/((np.linalg.norm(vec_midsum))*(np.linalg.norm(vec_tempest))))\n",
    "print(\"Midsummer versus Venice:\")\n",
    "print((vec_midsum_custom@vec_venice_custom)/((np.linalg.norm(vec_midsum))*(np.linalg.norm(vec_venice))))\n",
    "print(\"Midsummer versus Midsummer,it should be 1:\")\n",
    "print((vec_midsum_custom@vec_midsum_custom)/((np.linalg.norm(vec_midsum))*(np.linalg.norm(vec_midsum))))"
   ]
  },
  {
   "cell_type": "markdown",
   "metadata": {},
   "source": [
    "## From Above Midsummers Night Dream and Merchan of Venice has max score of similarity ~ 0.46"
   ]
  },
  {
   "cell_type": "code",
   "execution_count": null,
   "metadata": {},
   "outputs": [],
   "source": []
  }
 ],
 "metadata": {
  "kernelspec": {
   "display_name": "Python 3",
   "language": "python",
   "name": "python3"
  },
  "language_info": {
   "codemirror_mode": {
    "name": "ipython",
    "version": 3
   },
   "file_extension": ".py",
   "mimetype": "text/x-python",
   "name": "python",
   "nbconvert_exporter": "python",
   "pygments_lexer": "ipython3",
   "version": "3.7.6"
  }
 },
 "nbformat": 4,
 "nbformat_minor": 4
}
