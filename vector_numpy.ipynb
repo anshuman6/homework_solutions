{
 "cells": [
  {
   "cell_type": "code",
   "execution_count": 134,
   "metadata": {},
   "outputs": [],
   "source": [
    "import numpy as np"
   ]
  },
  {
   "cell_type": "code",
   "execution_count": 135,
   "metadata": {},
   "outputs": [],
   "source": [
    "\"\"\"\n",
    "The Vector class lets us do common operations such as\n",
    "addition, scalar multiplications and dot products.\n",
    "\n",
    ">>> v1 = Vector([4, 2, 7])\n",
    ">>> v2 = Vector([1, -1, 3])\n",
    ">>> v1+v2\n",
    "Vector([5, 1, 10])\n",
    ">>> v1 + [-1, -1, 3]\n",
    "Vector([3, 1, 10])\n",
    ">>> [-1, -1, 3] + v1\n",
    "Vector([3, 1, 10])\n",
    ">>> v1 + range(3)\n",
    "Vector([4, 3, 9])\n",
    ">>> v1 + range(2)\n",
    "Vector([4, 3, 7])\n",
    ">>> range(2) + v1\n",
    "Vector([4, 3, 7])\n",
    ">>> λ = 3\n",
    ">>> v1*λ\n",
    "Vector([12, 6, 21])\n",
    ">>> λ*v1\n",
    "Vector([12, 6, 21])\n",
    ">>> v1@v2\n",
    "23\n",
    ">>> v2@v1\n",
    "23\n",
    ">>> v1 @ [-1, -1, 3]\n",
    "15\n",
    ">>> [-1, -1, 3]@v1\n",
    "15\n",
    "\"\"\"\n",
    "\n",
    "def pad_vectors(left, right):\n",
    "    \"\"\"\n",
    "    pad sequence left or right with zeros to make\n",
    "    both sequences the length of the longest sequence\n",
    "\n",
    "    >>> pad_vectors(range(2), range(5,10))\n",
    "    ([0, 1, 0, 0, 0], [5, 6, 7, 8, 9])\n",
    "    >>> pad_vectors([1, 2, 3], range(10))\n",
    "    ([1, 2, 3, 0, 0, 0, 0, 0, 0, 0], [0, 1, 2, 3, 4, 5, 6, 7, 8, 9])\n",
    "    \"\"\"\n",
    "    maxlen = max(len(left), len(right))\n",
    "    outleft, outright = [], []\n",
    "    for i in range(maxlen):\n",
    "        if i > len(left) - 1:\n",
    "            leftval = 0\n",
    "        else:\n",
    "            leftval = left[i]\n",
    "        outleft.append(leftval)\n",
    "        if i > len(right) - 1:\n",
    "            rightval = 0\n",
    "        else:\n",
    "            rightval = right[i]\n",
    "        outright.append(rightval)\n",
    "    return outleft, outright\n",
    "\n",
    "import reprlib\n",
    "class Vector:\n",
    "    \n",
    "    def __init__(self, lst):\n",
    "        \"\"\"\n",
    "        Create a Vector from a sequence.\n",
    "        The memory is not copied.\n",
    "        \"\"\"\n",
    "        self.storage = lst\n",
    "\n",
    "    def __len__(self):\n",
    "        \"\"\"\n",
    "        Delegate length to length of storage.\n",
    "        >>> v = Vector(range(10))\n",
    "        >>> len(v)\n",
    "        10\n",
    "        \"\"\"\n",
    "        return len(self.storage)\n",
    "    \n",
    "    def __getitem__(self, i):\n",
    "        \"delegate getting an index to the underlying list\"\n",
    "        return self.storage[i]\n",
    "\n",
    "    def __add__(self, other_vector):\n",
    "        \"\"\"\n",
    "        Adding 2 vectors, pads to longest length\n",
    "        \"\"\"\n",
    "        try:\n",
    "            left, right = pad_vectors(self, other_vector)\n",
    "            return Vector(list(np.array(left)+np.array(right)))\n",
    "        except TypeError:\n",
    "            return NotImplemented\n",
    "    \n",
    "    def __radd__(self, other_vector):\n",
    "        \"add a sequence to a vector by reversing\"\n",
    "        # turn other + self around\n",
    "        return self + other_vector\n",
    "    \n",
    "    def __mul__(self, scalar):\n",
    "        \"Multiply Vector by a scalar\"\n",
    "        return Vector(list(np.array(self.storage)*scalar))\n",
    "\n",
    "    def __rmul__(self, scalar):\n",
    "        \"multiply scalar by a vector\"\n",
    "        return self*scalar\n",
    "\n",
    "    def __matmul__(self, other_vector): \n",
    "        try:\n",
    "            left, right = pad_vectors(self, other_vector)\n",
    "            return (np.array(left).dot(np.array(right))) \n",
    "        except TypeError:\n",
    "            return NotImplemented \n",
    "            \n",
    "    def __rmatmul__(self, other_vector):\n",
    "        return self @ other_vector\n",
    "\n",
    "    def __repr__(self):\n",
    "        components = reprlib.repr(self.storage)\n",
    "        return f\"Vector({components})\"\n",
    "\n",
    "\n",
    "\n",
    "if __name__ == \"__main__\":\n",
    "    import doctest\n",
    "    doctest.testmod()"
   ]
  },
  {
   "cell_type": "code",
   "execution_count": 136,
   "metadata": {},
   "outputs": [],
   "source": [
    "a = Vector([1,2,3])"
   ]
  },
  {
   "cell_type": "code",
   "execution_count": 137,
   "metadata": {},
   "outputs": [],
   "source": [
    "b = Vector([1,2,3])"
   ]
  },
  {
   "cell_type": "code",
   "execution_count": 138,
   "metadata": {},
   "outputs": [
    {
     "data": {
      "text/plain": [
       "Vector([2, 4, 6])"
      ]
     },
     "execution_count": 138,
     "metadata": {},
     "output_type": "execute_result"
    }
   ],
   "source": [
    "a+b"
   ]
  },
  {
   "cell_type": "code",
   "execution_count": 139,
   "metadata": {},
   "outputs": [
    {
     "data": {
      "text/plain": [
       "Vector([2, 4, 6])"
      ]
     },
     "execution_count": 139,
     "metadata": {},
     "output_type": "execute_result"
    }
   ],
   "source": [
    "b+a"
   ]
  },
  {
   "cell_type": "code",
   "execution_count": 140,
   "metadata": {},
   "outputs": [
    {
     "data": {
      "text/plain": [
       "Vector([1, 4, 9])"
      ]
     },
     "execution_count": 140,
     "metadata": {},
     "output_type": "execute_result"
    }
   ],
   "source": [
    "a*b"
   ]
  },
  {
   "cell_type": "code",
   "execution_count": 141,
   "metadata": {},
   "outputs": [
    {
     "data": {
      "text/plain": [
       "Vector([1, 4, 9])"
      ]
     },
     "execution_count": 141,
     "metadata": {},
     "output_type": "execute_result"
    }
   ],
   "source": [
    "b*a"
   ]
  },
  {
   "cell_type": "code",
   "execution_count": 143,
   "metadata": {},
   "outputs": [
    {
     "data": {
      "text/plain": [
       "14"
      ]
     },
     "execution_count": 143,
     "metadata": {},
     "output_type": "execute_result"
    }
   ],
   "source": [
    "a@b"
   ]
  },
  {
   "cell_type": "code",
   "execution_count": 144,
   "metadata": {},
   "outputs": [
    {
     "data": {
      "text/plain": [
       "14"
      ]
     },
     "execution_count": 144,
     "metadata": {},
     "output_type": "execute_result"
    }
   ],
   "source": [
    "b@a"
   ]
  },
  {
   "cell_type": "code",
   "execution_count": 145,
   "metadata": {},
   "outputs": [
    {
     "data": {
      "text/plain": [
       "3"
      ]
     },
     "execution_count": 145,
     "metadata": {},
     "output_type": "execute_result"
    }
   ],
   "source": [
    "len(a)"
   ]
  },
  {
   "cell_type": "code",
   "execution_count": 146,
   "metadata": {},
   "outputs": [
    {
     "data": {
      "text/plain": [
       "1"
      ]
     },
     "execution_count": 146,
     "metadata": {},
     "output_type": "execute_result"
    }
   ],
   "source": [
    "a[0]"
   ]
  },
  {
   "cell_type": "code",
   "execution_count": null,
   "metadata": {},
   "outputs": [],
   "source": []
  }
 ],
 "metadata": {
  "kernelspec": {
   "display_name": "Python 3",
   "language": "python",
   "name": "python3"
  },
  "language_info": {
   "codemirror_mode": {
    "name": "ipython",
    "version": 3
   },
   "file_extension": ".py",
   "mimetype": "text/x-python",
   "name": "python",
   "nbconvert_exporter": "python",
   "pygments_lexer": "ipython3",
   "version": "3.7.6"
  }
 },
 "nbformat": 4,
 "nbformat_minor": 4
}
